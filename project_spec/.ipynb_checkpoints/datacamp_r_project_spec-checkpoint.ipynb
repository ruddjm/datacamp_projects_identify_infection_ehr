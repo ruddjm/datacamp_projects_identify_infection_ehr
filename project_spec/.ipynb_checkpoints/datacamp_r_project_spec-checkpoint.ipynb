{
 "cells": [
  {
   "cell_type": "markdown",
   "metadata": {},
   "source": [
    "# 1. Project info"
   ]
  },
  {
   "cell_type": "markdown",
   "metadata": {},
   "source": [
    "**Project title**: Identify patients with suspected infection using the electronic health record.\n",
    "<!---Max 41 characters.-->\n",
    "\n",
    "**Name:** JoAnn Alvarez\n",
    "\n",
    "**E-mail:** joannmrudd@hotmail.com\n",
    "\n",
    "**GitHub username**: ruddjm\n",
    "\n",
    "**Link to prior writing**: https://github.com/ruddjm/data.table/blob/master/dataDotTable.ipynb ; Several posted here: http://biostat.mc.vanderbilt.edu/wiki/Main/JoAnnAlvarez\n",
    "<!---Please supply a link/reference to some of your own already published educational writing. For example, in the form of a blog post, notebook, article, book or internal case study.-->\n",
    "\n",
    "**Short description**: Flex your data.table muscle to classify patients with suspected infection using their electronic health record. <!--(111 chr. 110 limit.)-->\n",
    "\n",
    "#### Long description ####\n",
    "\n",
    "Sepsis is a deadly illness accounting for a large portion of in-hospital deaths. It occurs when a person's organs shut down in response to a severe infection. This public health problem is a major target for research, and hospital records represent a great opportunity for sepsis research. In this R project, you will identify hospital patients with severe infection using medical record data. This project assumes you know how to work with data frames using `data.table`.\n",
    "\n",
    "<!---A longer description of the project, around four sentences in length. \n",
    "This will be read by the students on the DataCamp platform **before** deciding to start the project. It should mention some of the major prerequisites for completing the project (for example \"familiarity with data frame\" or \"know how to use the `lm` function\")-->\n",
    "\n",
    "#### Datasets used ####\n",
    "\n",
    "Two dataframes I simulated in R to mimic the format of tables from EHR databases. Medication administration records and blood culture records are in `antibioticDT` and `bloodcultureDT`. The code and R data are located at https://github.com/ruddjm/datacamp_projects_identify_infection_ehr. I envision these data frames already being loaded in the workspace.\n",
    "\n",
    "<!---Short description (and ideally links) to the datasets used in the project. This will be read my me (Rasmus) only.-->\n",
    "\n",
    "#### Assumed student background ####\n",
    "\n",
    "   * Students should have some experience using R and have been introduced to `data.table`. \n",
    "      * They should understand how indexing works in R (`[]`). \n",
    "      * `merge` function in R. They need to understand the concept of merging, inner joins, left inner joins, and `by` variables (but not necessarily the `join` terminology). \n",
    "      * Assignment in `data.table` using \":=\"\n",
    "      * Grouped aggregations in `data.table`\n",
    "      * `shift` function in `data.table`\n",
    "      \n",
    "This should not require any knowledge of healthcare or medicine. \n",
    "\n",
    "<!---What background knowledge you assume the student doing this project will have. The more specific the better. This will be read my me (Rasmus) only. Please list things like modules, tools, functions, methods, and statistical concepts and jargon.\n",
    "\n",
    "Not so useful: \"The student has a basic familiarity with data frames.\"\n",
    "\n",
    "More useful: \"The student knows how to read in a csv file as a data frame and how to compute grouped summary statistics using `dplyr`.\"-->"
   ]
  },
  {
   "cell_type": "markdown",
   "metadata": {},
   "source": [
    "---\n",
    "# Example Project info (feel free to delete)"
   ]
  },
  {
   "cell_type": "markdown",
   "metadata": {},
   "source": [
    "**Project title**: The discovery of handwashing\n",
    "\n",
    "**Name:** Rasmus Bååth\n",
    "\n",
    "**E-mail:** rasmus.baath@gmail.com\n",
    "\n",
    "**GitHub username**: rasmusab\n",
    "\n",
    "**Link to prior writing**: http://sumsar.net/blog/2016/09/whats-on-the-menu/\n",
    "\n",
    "**Short description**: Reanalyse the data behind one of the most important discoveries of modern medicine: Handwashing.\n",
    "\n",
    "#### Long description ####\n",
    "\n",
    "In 1847 the Hungarian physician Ignaz Semmelweis makes a breakthrough discovery: He discovers handwashing. Contaminated hands was a major cause of childbed fever and by enforcing handwashing at his hospital he saved hundreds of lives. In this R project, we will reanalyze the medical data Semmelweis collected. This project assumes you have familiarity handling data frames and knows how to perform a bootstrap analysis. \n",
    "\n",
    "#### Datasets used ####\n",
    "\n",
    "This project uses the original data collected by Dr. Semmelweis which should be in the public domain. I haven't found any tidy `csv` files, so I scraped the data from this Wikipedia page: https://en.wikipedia.org/wiki/Historical_mortality_rates_of_puerperal_fever\n",
    "\n",
    "`yearly_deaths_by_clinic.csv`: https://gist.github.com/rasmusab/a207ab6ce2af0d74d20a3559a4ad3d9b\n",
    "\n",
    "`monthly_deaths.csv`: https://gist.github.com/rasmusab/02c06684ca8fd93b5125b713ffe2b9f6\n",
    "\n",
    "#### Assumed student background ####\n",
    "\n",
    "The student can handle basic R control structures like `if` statements and `for` loops. The student can load in and inspect `csv` files. She knows how to select column and subset rows using the `[]` and `$` operators and understand vectorized operators (like that `+` is vectorized). The student has produced line plots using the `plot` function. The student knows that a bootstrap distribution is created by repeatedly resampling a dataset, and knows how to calculate a bootstrap confidence interval using the `quantile` function.\n",
    "\n",
    "---"
   ]
  },
  {
   "cell_type": "markdown",
   "metadata": {},
   "source": [
    "# 2. Project narrative intro"
   ]
  },
  {
   "cell_type": "markdown",
   "metadata": {},
   "source": [
    "## 1. This patient may have sepsis."
   ]
  },
  {
   "cell_type": "markdown",
   "metadata": {},
   "source": [
    "Sepsis is a deadly syndrome where a patient has a severe infection that causes organ failure. The medical community believes that the sooner septic patients are treated, the more likely they are to survive, but recognizing sepsis is difficult. Now that hospitals have a constant flow of data, it may be possible to use machine learning to automatically flag patients who are likely to be septic. Before any predictive algorithms can be developed, we need a reliable way to pick out the patients who had sepsis. \n",
    " \n",
    "In this project, we will find out which patients were suspected to have severe infection using electronic health record (EHR) data. These criteria are a very simplified version of the ones in a 2017 JAMA article by Rhee. The basic idea is that a patient starts antibiotics within a couple of days of a blood culture, and is given antibiotics for at least 4 days.\n",
    "\n",
    "### Criteria for Suspected Infection\n",
    "   * Sequence of ≥4 “Qualifying Antibiotic Days” (QADs)\n",
    "      * Must start with a “new antibiotic” (not given in the prior 2 days).\n",
    "      * Must start within +/-2 days of a blood culture.  \n",
    "      * There must be at least one IV antibiotic within the +/-2 day window period.\n",
    "\n",
    "Take a look at the antibiotic data. Each row is one drug administration, and includes the patient id, day the drug was administered, and the drug type. First let's find which rows represent 'new' antibiotics, by checking whether they were given in the past 2 days. "
   ]
  },
  {
   "cell_type": "code",
   "execution_count": 1,
   "metadata": {
    "collapsed": false
   },
   "outputs": [
    {
     "name": "stderr",
     "output_type": "stream",
     "text": [
      "Warning message:\n",
      "“package ‘data.table’ was built under R version 3.3.2”"
     ]
    },
    {
     "name": "stdout",
     "output_type": "stream",
     "text": [
      "Loading objects:\n",
      "  antibioticDT\n",
      "  blood_cultureDT\n"
     ]
    }
   ],
   "source": [
    "library(data.table)\n",
    "load('ehr_dataframes.Rdata', verbose = TRUE)\n",
    "\n",
    "setorder(antibioticDT, id, abx_type, abx_day)\n",
    "antibioticDT[ , lastAdministrationDay := shift(abx_day, 1), \n",
    "  by = .(id, abx_type)]\n",
    "antibioticDT[ , daysSinceLastAdmin := abx_day - lastAdministrationDay]\n",
    "antibioticDT[ , antibiotic_new := 1]\n",
    "antibioticDT[daysSinceLastAdmin <= 2, antibiotic_new := 0]"
   ]
  },
  {
   "cell_type": "markdown",
   "metadata": {},
   "source": [
    "## 2. Combine the antibiotic data and the blood culture data"
   ]
  },
  {
   "cell_type": "markdown",
   "metadata": {},
   "source": [
    "To find which antibiotics were given close to a blood culture, we'll need to combine the drug administration data with the blood culture data. \n",
    "\n",
    "A tricky part is that many patients will have had blood cultures on several different days. For each one of them, we are going to see if there's a sequence of antibiotic days close to it. For a given patient, we will match each blood culture to all of his antibiotics."
   ]
  },
  {
   "cell_type": "code",
   "execution_count": 4,
   "metadata": {
    "collapsed": true
   },
   "outputs": [],
   "source": [
    "combinedDT = merge(\n",
    "  blood_cultureDT,\n",
    "  antibioticDT,\n",
    "  all = FALSE,\n",
    "  by = 'id',\n",
    "  allow.cartesian = TRUE)"
   ]
  },
  {
   "cell_type": "markdown",
   "metadata": {},
   "source": [
    "## 3. Determine whether each row is in-window."
   ]
  },
  {
   "cell_type": "markdown",
   "metadata": {},
   "source": [
    "Make a new variable indicating whether the given row is within two days of a blood culture. "
   ]
  },
  {
   "cell_type": "code",
   "execution_count": 5,
   "metadata": {
    "collapsed": false
   },
   "outputs": [
    {
     "data": {},
     "metadata": {},
     "output_type": "display_data"
    }
   ],
   "source": [
    "combinedDT[ , \n",
    "  in_bcx_window := \n",
    "    abx_day - blood_culture_day <= 2 \n",
    "    & \n",
    "    abx_day - blood_culture_day >= -2]"
   ]
  }
 ],
 "metadata": {
  "anaconda-cloud": {},
  "celltoolbar": "Raw Cell Format",
  "kernelspec": {
   "display_name": "R",
   "language": "R",
   "name": "ir"
  },
  "language_info": {
   "codemirror_mode": "r",
   "file_extension": ".r",
   "mimetype": "text/x-r-source",
   "name": "R",
   "pygments_lexer": "r",
   "version": "3.3.1"
  }
 },
 "nbformat": 4,
 "nbformat_minor": 2
}
