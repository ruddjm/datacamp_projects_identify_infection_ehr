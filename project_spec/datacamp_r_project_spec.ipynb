{
 "cells": [
  {
   "cell_type": "markdown",
   "metadata": {},
   "source": [
    "# 1. Project info"
   ]
  },
  {
   "cell_type": "markdown",
   "metadata": {},
   "source": [
    "**Project title**: Identify patients with suspected infection using the electronic health record.\n",
    "<!---Max 41 characters.-->\n",
    "\n",
    "**Name:** JoAnn Alvarez\n",
    "\n",
    "**E-mail:** joannmrudd@hotmail.com\n",
    "\n",
    "**GitHub username**: ruddjm\n",
    "\n",
    "**Link to prior writing**: https://github.com/ruddjm/data.table/blob/master/dataDotTable.ipynb ; Several posted here: http://biostat.mc.vanderbilt.edu/wiki/Main/JoAnnAlvarez\n",
    "<!---Please supply a link/reference to some of your own already published educational writing. For example, in the form of a blog post, notebook, article, book or internal case study.-->\n",
    "\n",
    "**Short description**: Flex your data.table muscle to classify patients with suspected infection using their electronic health record. <!--(111 chr. 110 limit.)-->\n",
    "\n",
    "#### Long description ####\n",
    "\n",
    "Sepsis is a deadly illness accounting for a large portion of in-hospital deaths. It occurs when a person's organs shut down in response to a severe infection. This public health problem is a major target for research, and hospital records represent a great opportunity for sepsis research. In this R project, you will identify hospital patients with severe infection using medical record data. This project assumes you know how to work with data frames using `data.table`.\n",
    "\n",
    "<!---A longer description of the project, around four sentences in length. \n",
    "This will be read by the students on the DataCamp platform **before** deciding to start the project. It should mention some of the major prerequisites for completing the project (for example \"familiarity with data frame\" or \"know how to use the `lm` function\")-->\n",
    "\n",
    "#### Datasets used ####\n",
    "\n",
    "Two dataframes I simulated in R to mimic the format of tables from EHR databases. Medication administration records and blood culture records are in `antibioticDT` and `bloodcultureDT`. The code and R data are located at https://github.com/ruddjm/datacamp_projects_identify_infection_ehr. I envision these data frames already being loaded in the workspace.\n",
    "\n",
    "<!---Short description (and ideally links) to the datasets used in the project. This will be read my me (Rasmus) only.-->\n",
    "\n",
    "#### Assumed student background ####\n",
    "\n",
    "   * Students should have some experience using R and have been introduced to `data.table`. \n",
    "      * They should understand how indexing works in R (`[]`). \n",
    "      * `merge` function in R. They need to understand the concept of merging, inner joins, left inner joins, and `by` variables (but not necessarily the `join` terminology). \n",
    "      * Assignment in `data.table` using \":=\"\n",
    "      * Grouped aggregations in `data.table`\n",
    "      * `shift` function in `data.table`\n",
    "      \n",
    "This should not require any knowledge of healthcare or medicine. \n",
    "\n",
    "<!---What background knowledge you assume the student doing this project will have. The more specific the better. This will be read my me (Rasmus) only. Please list things like modules, tools, functions, methods, and statistical concepts and jargon.\n",
    "\n",
    "Not so useful: \"The student has a basic familiarity with data frames.\"\n",
    "\n",
    "More useful: \"The student knows how to read in a csv file as a data frame and how to compute grouped summary statistics using `dplyr`.\"-->"
   ]
  },
  {
   "cell_type": "markdown",
   "metadata": {},
   "source": [
    "# 2. Project narrative intro"
   ]
  },
  {
   "cell_type": "markdown",
   "metadata": {},
   "source": [
    "## 1. This patient may have sepsis."
   ]
  },
  {
   "cell_type": "markdown",
   "metadata": {},
   "source": [
    "Sepsis is a deadly syndrome where a patient has a severe infection that causes organ failure. The medical community believes that the sooner septic patients are treated, the more likely they are to survive, but recognizing sepsis is difficult. Now that hospitals have a constant flow of data, it may be possible to use machine learning to automatically flag patients who are likely to be septic. Before any predictive algorithms can be developed, however, we need a reliable way to pick out the patients who had sepsis. \n",
    " \n",
    "In this project, we will find out which patients were suspected to have a severe infection using electronic health record (EHR) data. In other words, we will look in to the hospital's records to see what happened during a patient's hospital stay, and try to figure out whether he or she had a severe infection. We will check to see whether the doctor ordered a blood test to look for bacteria (a blood culture) and also gave the patient a series of antibotics. The basic idea is that a patient starts antibiotics within a couple of days of a blood culture, and is given antibiotics for at least 4 days.\n",
    "\n",
    "### Criteria for Suspected Infection*\n",
    "   * Patient receives antibiotics for a sequence of 4 days, with gaps of 1 day allowed.\n",
    "   * The sequence must start with a “new antibiotic” (not given in the prior 2 days).\n",
    "   * The sequence must start within +/-2 days of a blood culture.  \n",
    "   * There must be at least one IV antibiotic within the +/-2 day window period. (An IV drug is one that is given intravenously, not by mouth.)\n",
    "\n",
    "Let's take a look at the antibiotic data, which is in a csv file called 'antibiotic.csv.' Let's import it using the `data.table` function for reading in data. Let's look at a few rows of data. Each row represents one time the patient was given a drug. The variables include the patient id, the day the drug was administered, and the type of drug are included. "
   ]
  },
  {
   "cell_type": "code",
   "execution_count": null,
   "metadata": {
    "collapsed": true
   },
   "outputs": [],
   "source": [
    "library(data.table)\n",
    "# load('ehr_dataframes.Rdata', verbose = TRUE)\n",
    "antibioticDT = fread('antibioticDT.csv')\n",
    "#blood_cultureDT = fread('blood_cultureDT.csv')\n",
    "antibioticDT"
   ]
  },
  {
   "cell_type": "markdown",
   "metadata": {},
   "source": [
    "# 2. Which antibiotics are \"new?\""
   ]
  },
  {
   "cell_type": "markdown",
   "metadata": {},
   "source": [
    "First let's find which rows represent 'new' antibiotics, by checking whether they were given in the past 2 days. "
   ]
  },
  {
   "cell_type": "code",
   "execution_count": 2,
   "metadata": {},
   "outputs": [
    {
     "ename": "SyntaxError",
     "evalue": "invalid syntax (<ipython-input-2-bdfc1cda0c92>, line 2)",
     "output_type": "error",
     "traceback": [
      "\u001b[1;36m  File \u001b[1;32m\"<ipython-input-2-bdfc1cda0c92>\"\u001b[1;36m, line \u001b[1;32m2\u001b[0m\n\u001b[1;33m    antibioticDT[ , lastAdministrationDay := shift(abx_day, 1),\u001b[0m\n\u001b[1;37m                  ^\u001b[0m\n\u001b[1;31mSyntaxError\u001b[0m\u001b[1;31m:\u001b[0m invalid syntax\n"
     ]
    }
   ],
   "source": [
    "setorder(antibioticDT, id, antibiotic_type, abx_day)\n",
    "antibioticDT[ , lastAdministrationDay := shift(abx_day, 1), \n",
    "  by = .(id, antibiotic_type)]\n",
    "antibioticDT[ , daysSinceLastAdmin := abx_day - lastAdministrationDay]\n",
    "antibioticDT[ , antibiotic_new := 1]\n",
    "antibioticDT[daysSinceLastAdmin <= 2, antibiotic_new := 0]"
   ]
  },
  {
   "cell_type": "markdown",
   "metadata": {},
   "source": [
    "## 3. Combine the antibiotic data and the blood culture data"
   ]
  },
  {
   "cell_type": "markdown",
   "metadata": {},
   "source": [
    "To find which antibiotics were given close to a blood culture, we'll need to combine the drug administration data with the blood culture data. \n",
    "\n",
    "A tricky part is that many patients will have had blood cultures on several different days. For each one of them, we are going to see if there's a sequence of antibiotic days close to it. For a given patient, we will match each blood culture to all of his antibiotics."
   ]
  },
  {
   "cell_type": "code",
   "execution_count": 4,
   "metadata": {
    "collapsed": true
   },
   "outputs": [],
   "source": [
    "combinedDT = merge(\n",
    "  blood_cultureDT,\n",
    "  antibioticDT,\n",
    "  all = FALSE,\n",
    "  by = 'id',\n",
    "  allow.cartesian = TRUE)"
   ]
  },
  {
   "cell_type": "markdown",
   "metadata": {},
   "source": [
    "## 4. Determine whether each row is in-window."
   ]
  },
  {
   "cell_type": "markdown",
   "metadata": {},
   "source": [
    "Let's make a new variable indicating whether the given row is within two days of a blood culture. "
   ]
  },
  {
   "cell_type": "code",
   "execution_count": 5,
   "metadata": {},
   "outputs": [
    {
     "data": {},
     "metadata": {},
     "output_type": "display_data"
    }
   ],
   "source": [
    "combinedDT[ , \n",
    "  in_bcx_window := \n",
    "    abx_day - blood_culture_day <= 2 \n",
    "    & \n",
    "    abx_day - blood_culture_day >= -2]"
   ]
  },
  {
   "cell_type": "code",
   "execution_count": null,
   "metadata": {
    "collapsed": true
   },
   "outputs": [],
   "source": []
  },
  {
   "cell_type": "code",
   "execution_count": null,
   "metadata": {
    "collapsed": true
   },
   "outputs": [],
   "source": []
  },
  {
   "cell_type": "code",
   "execution_count": null,
   "metadata": {
    "collapsed": true
   },
   "outputs": [],
   "source": []
  },
  {
   "cell_type": "markdown",
   "metadata": {},
   "source": [
    "*These criteria are a very simplified version of the ones given in a 2017 JAMA article by Rhee and others.\n",
    "\n",
    "Rhee C, Dantes R, Epstein L, Murphy DJ, Seymour CW, Iwashyna TJ, Kadri SS, Angus DC, Danner RL, Fiore AE, Jernigan JA, Martin GS, Septimus E, Warren DK, Karcz A, Chan C, Menchaca JT, Wang R, Gruber S, Klompas M. Incidence and Trends of Sepsis in US Hospitals Using Clinical vs Claims Data, 2009-2014. JAMA. 2017;318(13):1241-1249."
   ]
  },
  {
   "cell_type": "code",
   "execution_count": null,
   "metadata": {
    "collapsed": true
   },
   "outputs": [],
   "source": []
  }
 ],
 "metadata": {
  "anaconda-cloud": {},
  "celltoolbar": "Raw Cell Format",
  "kernelspec": {
   "display_name": "Python 3",
   "language": "python",
   "name": "python3"
  },
  "language_info": {
   "codemirror_mode": {
    "name": "ipython",
    "version": 3
   },
   "file_extension": ".py",
   "mimetype": "text/x-python",
   "name": "python",
   "nbconvert_exporter": "python",
   "pygments_lexer": "ipython3",
   "version": "3.6.1"
  }
 },
 "nbformat": 4,
 "nbformat_minor": 2
}
