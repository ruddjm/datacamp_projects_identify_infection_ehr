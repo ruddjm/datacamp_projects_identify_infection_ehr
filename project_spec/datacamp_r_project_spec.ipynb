{
 "cells": [
  {
   "cell_type": "markdown",
   "metadata": {},
   "source": [
    "# 1. Project info"
   ]
  },
  {
   "cell_type": "markdown",
   "metadata": {},
   "source": [
    "**Project title**: Identify patients with suspected infection using the electronic health record.\n",
    "<!---Max 41 characters.-->\n",
    "\n",
    "**Name:** JoAnn Alvarez\n",
    "\n",
    "**E-mail:** joannmrudd@hotmail.com\n",
    "\n",
    "**GitHub username**: ruddjm\n",
    "\n",
    "**Link to prior writing**: https://github.com/ruddjm/data.table/blob/master/dataDotTable.ipynb ; Several posted here: http://biostat.mc.vanderbilt.edu/wiki/Main/JoAnnAlvarez\n",
    "<!---Please supply a link/reference to some of your own already published educational writing. For example, in the form of a blog post, notebook, article, book or internal case study.-->\n",
    "\n",
    "**Short description**: Flex your data.table muscle to classify patients with suspected infection using their electronic health record. <!--(111 chr. 110 limit.)-->\n",
    "\n",
    "#### Long description ####\n",
    "\n",
    "Sepsis is a deadly illness accounting for a large portion of in-hospital deaths. It occurs when a person's organs shut down in response to a severe infection. This public health problem is a major target for research, and hospital records represent a great opportunity for sepsis research. In this R project, you will identify hospital patients with severe infection using medical record data. This project assumes you know how to work with data frames using `data.table`.\n",
    "\n",
    "<!---A longer description of the project, around four sentences in length. \n",
    "This will be read by the students on the DataCamp platform **before** deciding to start the project. It should mention some of the major prerequisites for completing the project (for example \"familiarity with data frame\" or \"know how to use the `lm` function\")-->\n",
    "\n",
    "#### Datasets used ####\n",
    "\n",
    "Two dataframes I simulated in R to mimic the format of tables from EHR databases. Medication administration records and blood culture records are in `antibioticDT` and `bloodcultureDT`. The code and R data are located at https://github.com/ruddjm/datacamp_projects_identify_infection_ehr. I envision these data frames already being loaded in the workspace.\n",
    "\n",
    "<!---Short description (and ideally links) to the datasets used in the project. This will be read my me (Rasmus) only.-->\n",
    "\n",
    "#### Assumed student background ####\n",
    "\n",
    "   * Students should have some experience using R and have been introduced to `data.table`. \n",
    "      * They should understand how indexing works in R (`[]`). \n",
    "      * `merge` function in R. They need to understand the concept of merging, inner joins, left inner joins, and `by` variables (but not necessarily the `join` terminology). \n",
    "      * Assignment in `data.table` using \":=\"\n",
    "      * Grouped aggregations in `data.table`\n",
    "      * `shift` function in `data.table`\n",
    "      \n",
    "This should not require any knowledge of healthcare or medicine. \n",
    "\n",
    "<!---What background knowledge you assume the student doing this project will have. The more specific the better. This will be read my me (Rasmus) only. Please list things like modules, tools, functions, methods, and statistical concepts and jargon.\n",
    "\n",
    "Not so useful: \"The student has a basic familiarity with data frames.\"\n",
    "\n",
    "More useful: \"The student knows how to read in a csv file as a data frame and how to compute grouped summary statistics using `dplyr`.\"-->"
   ]
  },
  {
   "cell_type": "markdown",
   "metadata": {},
   "source": [
    "# 2. Project narrative intro"
   ]
  },
  {
   "cell_type": "markdown",
   "metadata": {},
   "source": [
    "## 1. This patient may have sepsis."
   ]
  },
  {
   "cell_type": "markdown",
   "metadata": {},
   "source": [
    "Sepsis is a deadly syndrome where a patient has a severe infection that causes organ failure. The medical community believes that the sooner septic patients are treated, the more likely they are to survive, but recognizing sepsis is difficult. Now that hospitals have a constant flow of data, it may be possible to use machine learning to automatically flag patients who are likely to be septic. Before any predictive algorithms can be developed, however, we need a reliable way to pick out the patients who had sepsis. \n",
    " \n",
    "In this project, we will find out which patients were suspected to have a severe infection using electronic health record (EHR) data. In other words, we will look in to the hospital's records to see what happened during a patient's hospital stay, and try to figure out whether he or she had a severe infection. We will check to see whether the doctor ordered a blood test to look for bacteria (a blood culture) and also gave the patient a series of antibotics. The basic idea is that a patient starts antibiotics within a couple of days of a blood culture, and is given antibiotics for at least 4 days.\n",
    "\n",
    "### Criteria for Suspected Infection*\n",
    "   * Patient receives antibiotics for a sequence of 4 days, with gaps of 1 day allowed.\n",
    "   * The sequence must start with a “new antibiotic” (not given in the prior 2 days).\n",
    "   * The sequence must start within +/-2 days of a blood culture.  \n",
    "   * There must be at least one IV antibiotic within the +/-2 day window period. (An IV drug is one that is given intravenously, not by mouth.)\n",
    "\n",
    "Let's take a look at the antibiotic data, which is in a csv file called 'antibioticDT.csv.' Let's import it using the `data.table` function for reading in data. Let's look at a few rows of data. Each row represents one time the patient was given a drug. The variables include the patient id, the day the drug was administered, and the type of drug are included. For example, patient \"0010\" recieved doxycycline by mouth on the first day of her stay."
   ]
  },
  {
   "cell_type": "code",
   "execution_count": 6,
   "metadata": {
    "collapsed": false,
    "scrolled": true
   },
   "outputs": [
    {
     "data": {
      "text/html": [
       "<table>\n",
       "<thead><tr><th scope=col>patient_id</th><th scope=col>day_given</th><th scope=col>antibiotic_type</th><th scope=col>route</th></tr></thead>\n",
       "<tbody>\n",
       "\t<tr><td>0001         </td><td> 4           </td><td>ciprofloxacin</td><td>IV           </td></tr>\n",
       "\t<tr><td>0001         </td><td> 4           </td><td>penicillin   </td><td>IV           </td></tr>\n",
       "\t<tr><td>0001         </td><td> 5           </td><td>penicillin   </td><td>IV           </td></tr>\n",
       "\t<tr><td>0001         </td><td> 8           </td><td>penicillin   </td><td>IV           </td></tr>\n",
       "\t<tr><td>0001         </td><td> 9           </td><td>doxycycline  </td><td>IV           </td></tr>\n",
       "\t<tr><td>0001         </td><td>11           </td><td>doxycycline  </td><td>IV           </td></tr>\n",
       "\t<tr><td>0010         </td><td> 1           </td><td>doxycycline  </td><td>PO           </td></tr>\n",
       "\t<tr><td>0010         </td><td> 2           </td><td>amoxicillin  </td><td>IV           </td></tr>\n",
       "\t<tr><td>0010         </td><td> 4           </td><td>amoxicillin  </td><td>IV           </td></tr>\n",
       "\t<tr><td>0010         </td><td> 4           </td><td>doxycycline  </td><td>IV           </td></tr>\n",
       "\t<tr><td>0010         </td><td> 6           </td><td>ciprofloxacin</td><td>IV           </td></tr>\n",
       "\t<tr><td>0010         </td><td> 8           </td><td>doxycycline  </td><td>IV           </td></tr>\n",
       "\t<tr><td>0010         </td><td>10           </td><td>penicillin   </td><td>IV           </td></tr>\n",
       "\t<tr><td>0010         </td><td>12           </td><td>doxycycline  </td><td>IV           </td></tr>\n",
       "\t<tr><td>0010         </td><td>14           </td><td>ciprofloxacin</td><td>IV           </td></tr>\n",
       "\t<tr><td>0010         </td><td>14           </td><td>doxycycline  </td><td>IV           </td></tr>\n",
       "\t<tr><td>0010         </td><td>15           </td><td>ciprofloxacin</td><td>IV           </td></tr>\n",
       "\t<tr><td>0010         </td><td>16           </td><td>doxycycline  </td><td>IV           </td></tr>\n",
       "\t<tr><td>0011         </td><td> 1           </td><td>doxycycline  </td><td>IV           </td></tr>\n",
       "\t<tr><td>0011         </td><td> 3           </td><td>amoxicillin  </td><td>PO           </td></tr>\n",
       "\t<tr><td>0011         </td><td> 3           </td><td>ciprofloxacin</td><td>PO           </td></tr>\n",
       "\t<tr><td>0011         </td><td> 3           </td><td>doxycycline  </td><td>IV           </td></tr>\n",
       "\t<tr><td>0011         </td><td> 5           </td><td>amoxicillin  </td><td>IV           </td></tr>\n",
       "\t<tr><td>0011         </td><td> 5           </td><td>doxycycline  </td><td>PO           </td></tr>\n",
       "\t<tr><td>0011         </td><td> 6           </td><td>penicillin   </td><td>PO           </td></tr>\n",
       "\t<tr><td>0011         </td><td> 8           </td><td>doxycycline  </td><td>IV           </td></tr>\n",
       "\t<tr><td>0011         </td><td>10           </td><td>ciprofloxacin</td><td>IV           </td></tr>\n",
       "\t<tr><td>0017         </td><td> 1           </td><td>doxycycline  </td><td>IV           </td></tr>\n",
       "\t<tr><td>0017         </td><td> 4           </td><td>penicillin   </td><td>IV           </td></tr>\n",
       "\t<tr><td>0017         </td><td> 5           </td><td>doxycycline  </td><td>IV           </td></tr>\n",
       "</tbody>\n",
       "</table>\n"
      ],
      "text/latex": [
       "\\begin{tabular}{r|llll}\n",
       " patient\\_id & day\\_given & antibiotic\\_type & route\\\\\n",
       "\\hline\n",
       "\t 0001          &  4            & ciprofloxacin & IV           \\\\\n",
       "\t 0001          &  4            & penicillin    & IV           \\\\\n",
       "\t 0001          &  5            & penicillin    & IV           \\\\\n",
       "\t 0001          &  8            & penicillin    & IV           \\\\\n",
       "\t 0001          &  9            & doxycycline   & IV           \\\\\n",
       "\t 0001          & 11            & doxycycline   & IV           \\\\\n",
       "\t 0010          &  1            & doxycycline   & PO           \\\\\n",
       "\t 0010          &  2            & amoxicillin   & IV           \\\\\n",
       "\t 0010          &  4            & amoxicillin   & IV           \\\\\n",
       "\t 0010          &  4            & doxycycline   & IV           \\\\\n",
       "\t 0010          &  6            & ciprofloxacin & IV           \\\\\n",
       "\t 0010          &  8            & doxycycline   & IV           \\\\\n",
       "\t 0010          & 10            & penicillin    & IV           \\\\\n",
       "\t 0010          & 12            & doxycycline   & IV           \\\\\n",
       "\t 0010          & 14            & ciprofloxacin & IV           \\\\\n",
       "\t 0010          & 14            & doxycycline   & IV           \\\\\n",
       "\t 0010          & 15            & ciprofloxacin & IV           \\\\\n",
       "\t 0010          & 16            & doxycycline   & IV           \\\\\n",
       "\t 0011          &  1            & doxycycline   & IV           \\\\\n",
       "\t 0011          &  3            & amoxicillin   & PO           \\\\\n",
       "\t 0011          &  3            & ciprofloxacin & PO           \\\\\n",
       "\t 0011          &  3            & doxycycline   & IV           \\\\\n",
       "\t 0011          &  5            & amoxicillin   & IV           \\\\\n",
       "\t 0011          &  5            & doxycycline   & PO           \\\\\n",
       "\t 0011          &  6            & penicillin    & PO           \\\\\n",
       "\t 0011          &  8            & doxycycline   & IV           \\\\\n",
       "\t 0011          & 10            & ciprofloxacin & IV           \\\\\n",
       "\t 0017          &  1            & doxycycline   & IV           \\\\\n",
       "\t 0017          &  4            & penicillin    & IV           \\\\\n",
       "\t 0017          &  5            & doxycycline   & IV           \\\\\n",
       "\\end{tabular}\n"
      ],
      "text/markdown": [
       "\n",
       "patient_id | day_given | antibiotic_type | route | \n",
       "|---|---|---|---|---|---|---|---|---|---|---|---|---|---|---|---|---|---|---|---|---|---|---|---|---|---|---|---|---|---|\n",
       "| 0001          |  4            | ciprofloxacin | IV            | \n",
       "| 0001          |  4            | penicillin    | IV            | \n",
       "| 0001          |  5            | penicillin    | IV            | \n",
       "| 0001          |  8            | penicillin    | IV            | \n",
       "| 0001          |  9            | doxycycline   | IV            | \n",
       "| 0001          | 11            | doxycycline   | IV            | \n",
       "| 0010          |  1            | doxycycline   | PO            | \n",
       "| 0010          |  2            | amoxicillin   | IV            | \n",
       "| 0010          |  4            | amoxicillin   | IV            | \n",
       "| 0010          |  4            | doxycycline   | IV            | \n",
       "| 0010          |  6            | ciprofloxacin | IV            | \n",
       "| 0010          |  8            | doxycycline   | IV            | \n",
       "| 0010          | 10            | penicillin    | IV            | \n",
       "| 0010          | 12            | doxycycline   | IV            | \n",
       "| 0010          | 14            | ciprofloxacin | IV            | \n",
       "| 0010          | 14            | doxycycline   | IV            | \n",
       "| 0010          | 15            | ciprofloxacin | IV            | \n",
       "| 0010          | 16            | doxycycline   | IV            | \n",
       "| 0011          |  1            | doxycycline   | IV            | \n",
       "| 0011          |  3            | amoxicillin   | PO            | \n",
       "| 0011          |  3            | ciprofloxacin | PO            | \n",
       "| 0011          |  3            | doxycycline   | IV            | \n",
       "| 0011          |  5            | amoxicillin   | IV            | \n",
       "| 0011          |  5            | doxycycline   | PO            | \n",
       "| 0011          |  6            | penicillin    | PO            | \n",
       "| 0011          |  8            | doxycycline   | IV            | \n",
       "| 0011          | 10            | ciprofloxacin | IV            | \n",
       "| 0017          |  1            | doxycycline   | IV            | \n",
       "| 0017          |  4            | penicillin    | IV            | \n",
       "| 0017          |  5            | doxycycline   | IV            | \n",
       "\n",
       "\n"
      ],
      "text/plain": [
       "   patient_id day_given antibiotic_type route\n",
       "1  0001        4        ciprofloxacin   IV   \n",
       "2  0001        4        penicillin      IV   \n",
       "3  0001        5        penicillin      IV   \n",
       "4  0001        8        penicillin      IV   \n",
       "5  0001        9        doxycycline     IV   \n",
       "6  0001       11        doxycycline     IV   \n",
       "7  0010        1        doxycycline     PO   \n",
       "8  0010        2        amoxicillin     IV   \n",
       "9  0010        4        amoxicillin     IV   \n",
       "10 0010        4        doxycycline     IV   \n",
       "11 0010        6        ciprofloxacin   IV   \n",
       "12 0010        8        doxycycline     IV   \n",
       "13 0010       10        penicillin      IV   \n",
       "14 0010       12        doxycycline     IV   \n",
       "15 0010       14        ciprofloxacin   IV   \n",
       "16 0010       14        doxycycline     IV   \n",
       "17 0010       15        ciprofloxacin   IV   \n",
       "18 0010       16        doxycycline     IV   \n",
       "19 0011        1        doxycycline     IV   \n",
       "20 0011        3        amoxicillin     PO   \n",
       "21 0011        3        ciprofloxacin   PO   \n",
       "22 0011        3        doxycycline     IV   \n",
       "23 0011        5        amoxicillin     IV   \n",
       "24 0011        5        doxycycline     PO   \n",
       "25 0011        6        penicillin      PO   \n",
       "26 0011        8        doxycycline     IV   \n",
       "27 0011       10        ciprofloxacin   IV   \n",
       "28 0017        1        doxycycline     IV   \n",
       "29 0017        4        penicillin      IV   \n",
       "30 0017        5        doxycycline     IV   "
      ]
     },
     "metadata": {},
     "output_type": "display_data"
    }
   ],
   "source": [
    "library(data.table)\n",
    "# load('ehr_dataframes.Rdata', verbose = TRUE)\n",
    "antibioticDT = fread('antibioticDT.csv')\n",
    "#blood_cultureDT = fread('blood_cultureDT.csv')\n",
    "antibioticDT[1:30]"
   ]
  },
  {
   "cell_type": "markdown",
   "metadata": {},
   "source": [
    "# 2. Which antibiotics are \"new?\""
   ]
  },
  {
   "cell_type": "markdown",
   "metadata": {},
   "source": [
    "First let's find which rows represent 'new' antibiotics, by checking whether that particular antibiotic type was given in the past 2 days. We can use the `shift` function to look at data from other rows. Let's look at the data sorted by id, then antibiotic type, and finally day to visualize the task."
   ]
  },
  {
   "cell_type": "code",
   "execution_count": 4,
   "metadata": {
    "collapsed": false
   },
   "outputs": [
    {
     "data": {},
     "metadata": {},
     "output_type": "display_data"
    },
    {
     "data": {},
     "metadata": {},
     "output_type": "display_data"
    },
    {
     "data": {},
     "metadata": {},
     "output_type": "display_data"
    },
    {
     "data": {},
     "metadata": {},
     "output_type": "display_data"
    }
   ],
   "source": [
    "setorder(antibioticDT, patient_id, antibiotic_type, day_given)\n",
    "antibioticDT[1:40]\n",
    "antibioticDT[ , lastAdministrationDay := shift(day_given, 1), \n",
    "  by = .(patient_id, antibiotic_type)]\n",
    "\n",
    "antibioticDT[ , daysSinceLastAdmin := day_given - lastAdministrationDay]\n",
    "antibioticDT[ , antibiotic_new := 1]\n",
    "antibioticDT[daysSinceLastAdmin <= 2, antibiotic_new := 0]"
   ]
  },
  {
   "cell_type": "markdown",
   "metadata": {},
   "source": [
    "## 3. Looking at the blood culture data. "
   ]
  },
  {
   "cell_type": "markdown",
   "metadata": {},
   "source": [
    "Now let's look at the blood culture data. These data are in blood_cultureDT.csv. Let's start by reading it into the workspace and having a look at a few rows. Each row represnts one day that a patient had a blood culture. For example, patient \"0006\" had a culture on the first day of his hospitalization and again on the ninth. Notice that some patients from the antibiotic data are not in this data and vice versa. Some patients are in neither, because they received neither antibiotics nor a blood culture."
   ]
  },
  {
   "cell_type": "code",
   "execution_count": 10,
   "metadata": {
    "collapsed": false
   },
   "outputs": [
    {
     "data": {
      "text/html": [
       "<table>\n",
       "<thead><tr><th scope=col>patient_id</th><th scope=col>blood_culture_day</th></tr></thead>\n",
       "<tbody>\n",
       "\t<tr><td>0006</td><td> 1  </td></tr>\n",
       "\t<tr><td>0006</td><td> 9  </td></tr>\n",
       "\t<tr><td>0011</td><td> 2  </td></tr>\n",
       "\t<tr><td>0011</td><td> 5  </td></tr>\n",
       "\t<tr><td>0011</td><td> 6  </td></tr>\n",
       "\t<tr><td>0011</td><td> 7  </td></tr>\n",
       "\t<tr><td>0011</td><td>10  </td></tr>\n",
       "\t<tr><td>0011</td><td>11  </td></tr>\n",
       "\t<tr><td>0011</td><td>13  </td></tr>\n",
       "\t<tr><td>0011</td><td>16  </td></tr>\n",
       "\t<tr><td>0017</td><td> 2  </td></tr>\n",
       "\t<tr><td>0017</td><td> 3  </td></tr>\n",
       "\t<tr><td>0050</td><td> 3  </td></tr>\n",
       "\t<tr><td>0050</td><td>17  </td></tr>\n",
       "\t<tr><td>0053</td><td> 7  </td></tr>\n",
       "\t<tr><td>0059</td><td> 2  </td></tr>\n",
       "\t<tr><td>0075</td><td> 1  </td></tr>\n",
       "\t<tr><td>0077</td><td> 4  </td></tr>\n",
       "\t<tr><td>0077</td><td>10  </td></tr>\n",
       "\t<tr><td>0077</td><td>13  </td></tr>\n",
       "\t<tr><td>0079</td><td> 1  </td></tr>\n",
       "\t<tr><td>0079</td><td>10  </td></tr>\n",
       "\t<tr><td>0084</td><td> 5  </td></tr>\n",
       "\t<tr><td>0086</td><td> 5  </td></tr>\n",
       "\t<tr><td>0088</td><td> 1  </td></tr>\n",
       "\t<tr><td>0088</td><td> 6  </td></tr>\n",
       "\t<tr><td>0088</td><td>12  </td></tr>\n",
       "\t<tr><td>0092</td><td> 2  </td></tr>\n",
       "\t<tr><td>0092</td><td> 9  </td></tr>\n",
       "\t<tr><td>0092</td><td>11  </td></tr>\n",
       "</tbody>\n",
       "</table>\n"
      ],
      "text/latex": [
       "\\begin{tabular}{r|ll}\n",
       " patient\\_id & blood\\_culture\\_day\\\\\n",
       "\\hline\n",
       "\t 0006 &  1  \\\\\n",
       "\t 0006 &  9  \\\\\n",
       "\t 0011 &  2  \\\\\n",
       "\t 0011 &  5  \\\\\n",
       "\t 0011 &  6  \\\\\n",
       "\t 0011 &  7  \\\\\n",
       "\t 0011 & 10  \\\\\n",
       "\t 0011 & 11  \\\\\n",
       "\t 0011 & 13  \\\\\n",
       "\t 0011 & 16  \\\\\n",
       "\t 0017 &  2  \\\\\n",
       "\t 0017 &  3  \\\\\n",
       "\t 0050 &  3  \\\\\n",
       "\t 0050 & 17  \\\\\n",
       "\t 0053 &  7  \\\\\n",
       "\t 0059 &  2  \\\\\n",
       "\t 0075 &  1  \\\\\n",
       "\t 0077 &  4  \\\\\n",
       "\t 0077 & 10  \\\\\n",
       "\t 0077 & 13  \\\\\n",
       "\t 0079 &  1  \\\\\n",
       "\t 0079 & 10  \\\\\n",
       "\t 0084 &  5  \\\\\n",
       "\t 0086 &  5  \\\\\n",
       "\t 0088 &  1  \\\\\n",
       "\t 0088 &  6  \\\\\n",
       "\t 0088 & 12  \\\\\n",
       "\t 0092 &  2  \\\\\n",
       "\t 0092 &  9  \\\\\n",
       "\t 0092 & 11  \\\\\n",
       "\\end{tabular}\n"
      ],
      "text/markdown": [
       "\n",
       "patient_id | blood_culture_day | \n",
       "|---|---|---|---|---|---|---|---|---|---|---|---|---|---|---|---|---|---|---|---|---|---|---|---|---|---|---|---|---|---|\n",
       "| 0006 |  1   | \n",
       "| 0006 |  9   | \n",
       "| 0011 |  2   | \n",
       "| 0011 |  5   | \n",
       "| 0011 |  6   | \n",
       "| 0011 |  7   | \n",
       "| 0011 | 10   | \n",
       "| 0011 | 11   | \n",
       "| 0011 | 13   | \n",
       "| 0011 | 16   | \n",
       "| 0017 |  2   | \n",
       "| 0017 |  3   | \n",
       "| 0050 |  3   | \n",
       "| 0050 | 17   | \n",
       "| 0053 |  7   | \n",
       "| 0059 |  2   | \n",
       "| 0075 |  1   | \n",
       "| 0077 |  4   | \n",
       "| 0077 | 10   | \n",
       "| 0077 | 13   | \n",
       "| 0079 |  1   | \n",
       "| 0079 | 10   | \n",
       "| 0084 |  5   | \n",
       "| 0086 |  5   | \n",
       "| 0088 |  1   | \n",
       "| 0088 |  6   | \n",
       "| 0088 | 12   | \n",
       "| 0092 |  2   | \n",
       "| 0092 |  9   | \n",
       "| 0092 | 11   | \n",
       "\n",
       "\n"
      ],
      "text/plain": [
       "   patient_id blood_culture_day\n",
       "1  0006        1               \n",
       "2  0006        9               \n",
       "3  0011        2               \n",
       "4  0011        5               \n",
       "5  0011        6               \n",
       "6  0011        7               \n",
       "7  0011       10               \n",
       "8  0011       11               \n",
       "9  0011       13               \n",
       "10 0011       16               \n",
       "11 0017        2               \n",
       "12 0017        3               \n",
       "13 0050        3               \n",
       "14 0050       17               \n",
       "15 0053        7               \n",
       "16 0059        2               \n",
       "17 0075        1               \n",
       "18 0077        4               \n",
       "19 0077       10               \n",
       "20 0077       13               \n",
       "21 0079        1               \n",
       "22 0079       10               \n",
       "23 0084        5               \n",
       "24 0086        5               \n",
       "25 0088        1               \n",
       "26 0088        6               \n",
       "27 0088       12               \n",
       "28 0092        2               \n",
       "29 0092        9               \n",
       "30 0092       11               "
      ]
     },
     "metadata": {},
     "output_type": "display_data"
    }
   ],
   "source": [
    "blood_cultureDT = fread('blood_cultureDT.csv')\n",
    "blood_cultureDT[1:30]"
   ]
  },
  {
   "cell_type": "markdown",
   "metadata": {},
   "source": [
    "## 4. Combine the antibiotic data and the blood culture data"
   ]
  },
  {
   "cell_type": "markdown",
   "metadata": {},
   "source": [
    "To find which antibiotics were given close to a blood culture, we'll need to combine the drug administration data with the blood culture data. Let's keep only patients that are still candidates for infection, so only those in both data sets.\n",
    "\n",
    "A tricky part is that many patients will have had blood cultures on several different days. For each one of them, we are going to see if there's a sequence of antibiotic days close to it. For a given patient, we will match each blood culture to all of his antibiotics."
   ]
  },
  {
   "cell_type": "code",
   "execution_count": 14,
   "metadata": {
    "collapsed": false
   },
   "outputs": [
    {
     "data": {
      "text/html": [
       "<ol class=list-inline>\n",
       "\t<li>3681</li>\n",
       "\t<li>7</li>\n",
       "</ol>\n"
      ],
      "text/latex": [
       "\\begin{enumerate*}\n",
       "\\item 3681\n",
       "\\item 7\n",
       "\\end{enumerate*}\n"
      ],
      "text/markdown": [
       "1. 3681\n",
       "2. 7\n",
       "\n",
       "\n"
      ],
      "text/plain": [
       "[1] 3681    7"
      ]
     },
     "metadata": {},
     "output_type": "display_data"
    }
   ],
   "source": [
    "combinedDT = merge(\n",
    "  blood_cultureDT,\n",
    "  antibioticDT,\n",
    "  all = FALSE,\n",
    "  by = 'patient_id')\n",
    "\n",
    "combinedDT"
   ]
  },
  {
   "cell_type": "markdown",
   "metadata": {},
   "source": [
    "## 4. Determine whether each row is in-window."
   ]
  },
  {
   "cell_type": "markdown",
   "metadata": {},
   "source": [
    "Let's make a new variable indicating whether the given row is within two days of a blood culture. "
   ]
  },
  {
   "cell_type": "code",
   "execution_count": 17,
   "metadata": {
    "collapsed": false
   },
   "outputs": [
    {
     "data": {},
     "metadata": {},
     "output_type": "display_data"
    }
   ],
   "source": [
    "combinedDT[ , \n",
    "  drug_in_bcx_window := \n",
    "    day_given - blood_culture_day <= 2 \n",
    "    & \n",
    "    day_given - blood_culture_day >= -2]"
   ]
  },
  {
   "cell_type": "code",
   "execution_count": null,
   "metadata": {
    "collapsed": true
   },
   "outputs": [],
   "source": []
  },
  {
   "cell_type": "code",
   "execution_count": null,
   "metadata": {
    "collapsed": true
   },
   "outputs": [],
   "source": []
  },
  {
   "cell_type": "code",
   "execution_count": null,
   "metadata": {
    "collapsed": true
   },
   "outputs": [],
   "source": []
  },
  {
   "cell_type": "markdown",
   "metadata": {},
   "source": [
    "*These criteria are a very simplified version of the ones given in a 2017 JAMA article by Rhee and others.\n",
    "\n",
    "Rhee C, Dantes R, Epstein L, Murphy DJ, Seymour CW, Iwashyna TJ, Kadri SS, Angus DC, Danner RL, Fiore AE, Jernigan JA, Martin GS, Septimus E, Warren DK, Karcz A, Chan C, Menchaca JT, Wang R, Gruber S, Klompas M. Incidence and Trends of Sepsis in US Hospitals Using Clinical vs Claims Data, 2009-2014. JAMA. 2017;318(13):1241-1249."
   ]
  },
  {
   "cell_type": "code",
   "execution_count": null,
   "metadata": {
    "collapsed": true
   },
   "outputs": [],
   "source": []
  }
 ],
 "metadata": {
  "anaconda-cloud": {},
  "celltoolbar": "Raw Cell Format",
  "kernelspec": {
   "display_name": "R",
   "language": "R",
   "name": "ir"
  },
  "language_info": {
   "codemirror_mode": "r",
   "file_extension": ".r",
   "mimetype": "text/x-r-source",
   "name": "R",
   "pygments_lexer": "r",
   "version": "3.3.1"
  }
 },
 "nbformat": 4,
 "nbformat_minor": 2
}
